{
 "cells": [
  {
   "cell_type": "markdown",
   "metadata": {},
   "source": [
    "## BDAT PROBLEM SET 1"
   ]
  },
  {
   "cell_type": "markdown",
   "metadata": {},
   "source": [
    "## QUESTION 1"
   ]
  },
  {
   "cell_type": "code",
   "execution_count": null,
   "metadata": {},
   "outputs": [],
   "source": [
    "\n",
    "5                          //int\n",
    "5.0                       //float\n",
    "5 > 1                    //boolean\n",
    "\"5\"                     // string\n",
    "5*2                    // int\n",
    "\"5\"*2                 // string\n",
    "\"5\" + \"2\"            //string\n",
    "5 / 2               // float\n",
    "5 % 2              //int\n",
    "{5,2,1}           //array\n",
    "5 == 3           //boolean\n",
    "pi (the number) //double\n",
    "\n"
   ]
  },
  {
   "cell_type": "markdown",
   "metadata": {},
   "source": [
    "## QUESTION 2"
   ]
  },
  {
   "cell_type": "markdown",
   "metadata": {},
   "source": [
    "```csharp\n",
    "using System;\n",
    "using Sytem.Collections.Generic;\n",
    "using System.Linq;\n",
    "using System.Text;\n",
    "using System.Threading.Tasks;\n",
    "\n",
    "namespace ConsoleApplication1\n",
    "{\n",
    "    class Program\n",
    "    {\n",
    "        static void Main(string[] args)\n",
    "        {\n",
    "            \n",
    "            \n",
    "            //How many letters are there in 'Supercalifragilisticexpialidocious'?\n",
    "            string word = \"Supercalifragilisticexpialidocious\";\n",
    "            Console.WriteLine(word.Length);\n",
    "            \n",
    "            \n",
    "            //Does 'Supercalifragilisticexpialidocious' contain 'ice' as a substring?\n",
    "            Console.WriteLine(word.Contains(\"ice\"));\n",
    "            \n",
    "            \n",
    "        }\n",
    "    }\n",
    "}\n",
    "```\n",
    "\n"
   ]
  },
  {
   "attachments": {
    "image-2.png": {
     "image/png": "[encoded data removed]"
    }
   },
   "cell_type": "markdown",
   "metadata": {},
   "source": [
    "## OUTPUT\n",
    "![image-2.png](attachment:image-2.png)"
   ]
  },
  {
   "cell_type": "markdown",
   "metadata": {},
   "source": [
    "```csharp\n",
    "using System;\n",
    "using Sytem.Collections.Generic;\n",
    "using System.Linq;\n",
    "using System.Text;\n",
    "using System.Threading.Tasks;\n",
    "\n",
    "namespace ConsoleApplication1\n",
    "{\n",
    "    class Program\n",
    "    {\n",
    "        static void Main(string[] args)\n",
    "        {\n",
    "            \n",
    "\n",
    "            //Which of the following words is the longest: Supercalifragilisticexpialidocious, Honorificabilitudinitatibus, or Bababadalgharaghtakamminarronnkonn?\n",
    "            string word1 = \"Supercalifragilisticexpialidocious\";\n",
    "            string word2 = \"Honorificabilitudinitatibus\";\n",
    "            string word3 = \"Bababadalgharaghtakamminarronnkonn\";\n",
    "            if (word1.Length > word2.Length && word1.Length > word3.Length)\n",
    "            {\n",
    "                Console.WriteLine(word1);\n",
    "            }\n",
    "            else if (word2.Length > word1.Length && word2.Length > word3.Length)\n",
    "            {\n",
    "                Console.WriteLine(word2);\n",
    "            }\n",
    "            else\n",
    "            {\n",
    "                Console.WriteLine(word3);\n",
    "            }\n",
    "            \n",
    "\n",
    "            \n",
    "\n",
    "        }\n",
    "    }\n",
    "}\n",
    "```\n",
    "\n"
   ]
  },
  {
   "attachments": {
    "image.png": {
     "image/png": "[encoded data removed]"
    }
   },
   "cell_type": "markdown",
   "metadata": {},
   "source": [
    "## OUTPUT\n",
    "\n",
    "![image.png](attachment:image.png)"
   ]
  },
  {
   "cell_type": "markdown",
   "metadata": {},
   "source": [
    "```csharp\n",
    "using System;\n",
    "using Sytem.Collections.Generic;\n",
    "using System.Linq;\n",
    "using System.Text;\n",
    "using System.Threading.Tasks;\n",
    "\n",
    "namespace ConsoleApplication1\n",
    "{\n",
    "    class Program\n",
    "    {\n",
    "        static void Main(string[] args)\n",
    "        {\n",
    "            \n",
    "            \n",
    "            \n",
    "            \n",
    "            //Which composer comes first in the dictionary: 'Berlioz', 'Borodin', 'Brian', 'Bartok', 'Bellini', 'Buxtehude', 'Bernstein'. Which one comes last?\n",
    "            string[] composers = { \"Berlioz\", \"Borodin\", \"Brian\", \"Bartok\", \"Bellini\", \"Buxtehude\", \"Bernstein\" };\n",
    "            Array.Sort(composers);\n",
    "            Console.WriteLine(composers[0]);\n",
    "            Console.WriteLine(composers[6]);\n",
    "            \n",
    "\n",
    "        }\n",
    "    }\n",
    "}\n",
    "```\n",
    "\n"
   ]
  },
  {
   "attachments": {
    "image.png": {
     "image/png": "[encoded data removed]"
    }
   },
   "cell_type": "markdown",
   "metadata": {},
   "source": [
    "## OUTPUT \n",
    "![image.png](attachment:image.png)"
   ]
  },
  {
   "cell_type": "markdown",
   "metadata": {},
   "source": [
    "## QUESTION 3"
   ]
  },
  {
   "cell_type": "markdown",
   "metadata": {},
   "source": [
    "```csharp\n",
    "using System;\n",
    "using Sytem.Collections.Generic;\n",
    "using System.Linq;\n",
    "using System.Text;\n",
    "using System.Threading.Tasks;\n",
    "\n",
    "namespace ConsoleApplication1\n",
    "{\n",
    "    class Program\n",
    "    {\n",
    "        static void Main(string[] args)\n",
    "            {\n",
    "                double area = triangleArea(2, 2, 2);\n",
    "                Console.WriteLine(area);\n",
    "            }\n",
    "        \n",
    "        static double triangleArea(double a, double b, double c)\n",
    "            {\n",
    "                double s = (a + b + c) / 2;\n",
    "                double area = Math.Sqrt(s * (s - a) * (s - b) * (s - c));\n",
    "                return area;\n",
    "            }\n",
    "          \n",
    "    }\n",
    "\n",
    "}\n",
    "```"
   ]
  },
  {
   "attachments": {
    "image.png": {
     "image/png": "[encoded data removed]"
    }
   },
   "cell_type": "markdown",
   "metadata": {},
   "source": [
    "## OUTPUT\n",
    "\n",
    "![image.png](attachment:image.png)"
   ]
  },
  {
   "cell_type": "markdown",
   "metadata": {},
   "source": [
    "## QUESTION 4"
   ]
  },
  {
   "cell_type": "markdown",
   "metadata": {},
   "source": [
    "```csharp\n",
    "using System;\n",
    "using Sytem.Collections.Generic;\n",
    "using System.Linq;\n",
    "using System.Text;\n",
    "using System.Threading.Tasks;\n",
    "\n",
    "namespace ConsoleApplication1\n",
    "{\n",
    "    class Program\n",
    "    {\n",
    "        static void Main(string[] args) {\n",
    "            \n",
    "                int[] arr1 = new int[5];\n",
    "                int[] arr2 = new int[5];\n",
    "                int[] arr3 = new int[5];\n",
    "                int j = 0;\n",
    "                int k = 0;\n",
    "\n",
    "                Console.WriteLine(\"Input the number of elements to be stored in the array :\");\n",
    "                int num = Convert.ToInt32(Console.ReadLine());\n",
    "\n",
    "                Console.WriteLine(\"Input {0} elements in the array :\", num);\n",
    "                for (int i = 0; i < num; i++)\n",
    "                {\n",
    "                    Console.WriteLine(\"element - {0} :\", i);\n",
    "                    arr1[i] = Convert.ToInt32(Console.ReadLine());\n",
    "                }\n",
    "\n",
    "                for (int i = 0; i < num; i++)\n",
    "                {\n",
    "                    if (arr1[i] % 2 == 0)\n",
    "                    {\n",
    "                        arr2[j] = arr1[i];\n",
    "                        j++;\n",
    "                    }\n",
    "                    else\n",
    "                    {\n",
    "                        arr3[k] = arr1[i];\n",
    "                        k++;\n",
    "                    }\n",
    "                }\n",
    "\n",
    "                Console.WriteLine(\"The Even elements are:\");\n",
    "                for (int i = 0; i < j; i++)\n",
    "                {\n",
    "                    Console.WriteLine(arr2[i]);\n",
    "                }\n",
    "\n",
    "                Console.WriteLine(\"The Odd elements are :\");\n",
    "                for (int i = 0; i < k; i++)\n",
    "                {\n",
    "                    Console.WriteLine(arr3[i]);\n",
    "                }\n",
    "        }\n",
    "          \n",
    "    }\n",
    "\n",
    "}\n",
    "```"
   ]
  },
  {
   "attachments": {
    "image.png": {
     "image/png": "[encoded data removed]"
    }
   },
   "cell_type": "markdown",
   "metadata": {},
   "source": [
    "## OUTPUT\n",
    "![image.png](attachment:image.png)"
   ]
  },
  {
   "cell_type": "markdown",
   "metadata": {},
   "source": [
    "## QUESTION 5"
   ]
  },
  {
   "cell_type": "markdown",
   "metadata": {},
   "source": [
    "```csharp\n",
    "using System;\n",
    "using System.Linq;\n",
    "using System.Text;\n",
    "using System.Threading.Tasks;\n",
    "\n",
    "namespace ConsoleApplication1\n",
    "{\n",
    "    class Program\n",
    "    {\n",
    "       \n",
    "\n",
    "        static void Main(string[] args)\n",
    "        {\n",
    "            static bool inside(int x, int y, int x1, int y1, int x2, int y2)\n",
    "            {\n",
    "                if (x > x1 && x < x2 && y > y1 && y < y2)\n",
    "                {\n",
    "                    return true;\n",
    "                }\n",
    "                else\n",
    "                {\n",
    "                    return false;\n",
    "                }\n",
    "\n",
    "            }\n",
    "\n",
    "            Console.WriteLine(inside(1, 1, 0, 0, 2, 3));\n",
    "            Console.WriteLine(inside(-1, -1, 0, 0, 2, 3));\n",
    "\n",
    "\n",
    "        }\n",
    "\n",
    "    }\n",
    "}\n",
    "```"
   ]
  },
  {
   "attachments": {
    "image.png": {
     "image/png": "[encoded data removed]"
    }
   },
   "cell_type": "markdown",
   "metadata": {},
   "source": [
    "## OUTPUT\n",
    "![image.png](attachment:image.png)"
   ]
  },
  {
   "cell_type": "markdown",
   "metadata": {},
   "source": [
    "## QUESTION 6"
   ]
  },
  {
   "cell_type": "code",
   "execution_count": 1,
   "metadata": {},
   "outputs": [
    {
     "name": "stdout",
     "output_type": "stream",
     "text": [
      "appyhay\n",
      "encilpay\n",
      "enterway\n",
      "otherway\n",
      "achtYay\n"
     ]
    }
   ],
   "source": [
    "def pig(word):\n",
    "    if word[0] in 'aeiou':\n",
    "        return word + 'way'\n",
    "    else:\n",
    "        return word[1:] + word[0] + 'ay'\n",
    "def main():\n",
    "    print(pig('happy'))\n",
    "    print(pig('pencil'))\n",
    "    print(pig('enter'))\n",
    "    print(pig('other'))\n",
    "    print(pig('Yacht'))\n",
    "\n",
    "if __name__ == '__main__':\n",
    "    main()\n",
    "    "
   ]
  },
  {
   "cell_type": "markdown",
   "metadata": {},
   "source": [
    "## QUESTION 7"
   ]
  },
  {
   "cell_type": "code",
   "execution_count": 2,
   "metadata": {},
   "outputs": [
    {
     "name": "stdout",
     "output_type": "stream",
     "text": [
      "There are 15 patients of blood type A.\n",
      "There are 1 patients of blood type B.\n",
      "There are 13 patients of blood type AB.\n",
      "There are 15 patients of blood type O.\n",
      "There are 0 patients of blood type OO.\n"
     ]
    }
   ],
   "source": [
    "def bldcount(filename):\n",
    "\n",
    "    # Open the file\n",
    "    with open('bloodtype1.txt', 'r') as file:\n",
    "        # Read the file\n",
    "        bloodtypes = file.read()\n",
    "        # Split the file\n",
    "        bloodtypes = bloodtypes.split()\n",
    "        # Count the number of each blood type\n",
    "        a = bloodtypes.count('A')\n",
    "        b = bloodtypes.count('B')\n",
    "        ab = bloodtypes.count('AB')\n",
    "        o = bloodtypes.count('O')\n",
    "        oo = bloodtypes.count('OO')\n",
    "        # Print the number of each blood type\n",
    "        print('There are {} patients of blood type A.'.format(a))\n",
    "        print('There are {} patients of blood type B.'.format(b))\n",
    "        print('There are {} patients of blood type AB.'.format(ab))\n",
    "        print('There are {} patients of blood type O.'.format(o))\n",
    "        print('There are {} patients of blood type OO.'.format(oo))\n",
    "\n",
    "# Call the function\n",
    "bldcount('bloodtype1.txt')"
   ]
  },
  {
   "cell_type": "markdown",
   "metadata": {},
   "source": [
    "### QUESTION 8"
   ]
  },
  {
   "cell_type": "code",
   "execution_count": 6,
   "metadata": {},
   "outputs": [
    {
     "name": "stdout",
     "output_type": "stream",
     "text": [
      "122.96544\n",
      "1.241401\n"
     ]
    }
   ],
   "source": [
    "'''Write a function curconv() that takes as input:\n",
    "1. a currency represented using a string (e.g., 'JPY' for the Japanese Yen or\n",
    "'EUR' for the Euro)\n",
    "2. an amount\n",
    "'''\n",
    "\n",
    "\n",
    "def curconv(currency, amount):\n",
    "\n",
    "    with open('Currencies.txt') as f:\n",
    "        file = f.readlines()\n",
    "\n",
    "    currencyDict = {}\n",
    "    for line in file:\n",
    "        parse = line.split(\"\\t\")\n",
    "        currencyDict[parse[0]] = parse[1]\n",
    "\n",
    "    print(amount *float(currencyDict[currency]))\n",
    "\n",
    "curconv(\"EUR\", 100)\n",
    "curconv(\"JPY\", 100)\n",
    "\n",
    "\n",
    "\n",
    "\n",
    "\n"
   ]
  },
  {
   "cell_type": "markdown",
   "metadata": {},
   "source": [
    "### QUESTION 9"
   ]
  },
  {
   "cell_type": "markdown",
   "metadata": {},
   "source": [
    "### Trying to add incompatible variables, as in adding 6 + ‘a’ \n",
    "\n",
    "- **TypeError unsupported operand, int + str**\n",
    "\n",
    "### Referring to the 12th item of a list that has only 10 items\n",
    "- **index error, out of range**\n",
    "\n",
    "### Using a value that is out ofrange for a function’s input, such as calling math.sqrt(-1.0)\n",
    "- **ValueError: math domain error**\n",
    "\n",
    "### Using an undeclared variable, such as print(x) when x has not been defined\n",
    "- **NameError: name x is not defined**\n",
    "\n",
    "### Trying to open a file that does not exist, such as mistyping the file name or looking in the wrong directory.\n",
    "- **IOERROR: No such directory exists**"
   ]
  },
  {
   "cell_type": "markdown",
   "metadata": {},
   "source": [
    "### QUESTION 10"
   ]
  },
  {
   "cell_type": "code",
   "execution_count": 5,
   "metadata": {},
   "outputs": [
    {
     "name": "stdout",
     "output_type": "stream",
     "text": [
      "[1, 1, 1, 3, 5, 1, 1, 2, 1, 0, 1, 0, 1, 2, 4, 0, 1, 2, 0, 2, 1, 0, 1, 1, 0, 0]\n",
      "[1, 0, 0, 0, 1, 0, 0, 0, 0, 0, 0, 1, 0, 0, 0, 2, 0, 0, 0, 0, 0, 0, 0, 0, 0, 0]\n"
     ]
    }
   ],
   "source": [
    "def frequencies(text):\n",
    "    # Create a list of letters\n",
    "    letters = 'abcdefghijklmnopqrstuvwxyz'\n",
    "    # Create a list of integers\n",
    "    integers = []\n",
    "    # Loop through the letters\n",
    "    for letter in letters:\n",
    "        # Count the number of times the letter appears in the text\n",
    "        count = text.count(letter)\n",
    "        # Append the count to the list of integers\n",
    "        integers.append(count)\n",
    "    # Return the list of integers\n",
    "    return integers\n",
    "\n",
    "# Call the function\n",
    "print(frequencies('The quick red fox got bored and went home.'))\n",
    "print(frequencies('apple'))\n"
   ]
  },
  {
   "cell_type": "code",
   "execution_count": null,
   "metadata": {},
   "outputs": [],
   "source": []
  }
 ],
 "metadata": {
  "kernelspec": {
   "display_name": "Python 3 (ipykernel)",
   "language": "python",
   "name": "python3"
  },
  "language_info": {
   "codemirror_mode": {
    "name": "ipython",
    "version": 3
   },
   "file_extension": ".py",
   "mimetype": "text/x-python",
   "name": "python",
   "nbconvert_exporter": "python",
   "pygments_lexer": "ipython3",
   "version": "3.9.12"
  }
 },
 "nbformat": 4,
 "nbformat_minor": 4
}
